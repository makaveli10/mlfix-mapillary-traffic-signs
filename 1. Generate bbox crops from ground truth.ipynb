{
 "cells": [
  {
   "cell_type": "markdown",
   "id": "dc0a1067",
   "metadata": {},
   "source": [
    "# Generate bbox crops from ground truth"
   ]
  },
  {
   "cell_type": "code",
   "execution_count": 1,
   "id": "17c2ec5b",
   "metadata": {},
   "outputs": [],
   "source": [
    "from fastai.vision.all import *"
   ]
  },
  {
   "cell_type": "markdown",
   "id": "a79dc8a0",
   "metadata": {},
   "source": [
    "Download the dataset from https://www.mapillary.com/dataset/trafficsign (unfortunatelly manually – you need to provide your name and accept the license) and unpack them somewhere (see `path` below).\n",
    "\n",
    "We will need these files:\n",
    "- mtsd_fully_annotated_annotation.zip\n",
    "- mtsd_fully_annotated_images.test.zip\n",
    "- mtsd_fully_annotated_images.train.0.zip\n",
    "- mtsd_fully_annotated_images.train.1.zip\n",
    "- mtsd_fully_annotated_images.train.2.zip\n",
    "- mtsd_fully_annotated_images.val.zip"
   ]
  },
  {
   "cell_type": "code",
   "execution_count": 2,
   "id": "8d824822",
   "metadata": {},
   "outputs": [],
   "source": [
    "# Mapillary dataset path:\n",
    "path = Path('..')\n",
    "# Where to put the cropped traffic signs (in separate subfolders for each label):\n",
    "outpath = Path('yolo-bbox-crops-aspects-carla')"
   ]
  },
  {
   "cell_type": "markdown",
   "id": "0d001842",
   "metadata": {},
   "source": [
    "Let's do a quick sanity check on the unpacked data:"
   ]
  },
  {
   "cell_type": "code",
   "execution_count": 6,
   "id": "d6b130b6",
   "metadata": {},
   "outputs": [],
   "source": [
    "# if not (path/'carla-object-detection-dataset/traffic_signs_cleaned/labels/002111.txt').exists():\n",
    "    # raise IOError(f\"Missing annotations, please unpack them to: {path.absolute()}\")\n",
    "if not (path/'KITTI/training/label_2/000000.txt').exists():\n",
    "    raise IOError(f\"Missing annotations, please unpack them to: {path.absolute()}\")"
   ]
  },
  {
   "cell_type": "code",
   "execution_count": 7,
   "id": "9971d937",
   "metadata": {},
   "outputs": [],
   "source": [
    "# if not (path/'carla-object-detection-dataset/traffic_signs_cleaned/images/002111.jpg').exists():\n",
    "#     raise IOError(f\"Missing images, please unpack them to: {path.absolute()}\")\n",
    "if not (path/'KITTI/training/image_2/000000.jpg').exists():\n",
    "    raise IOError(f\"Missing images, please unpack them to: {path.absolute()}\")"
   ]
  },
  {
   "cell_type": "code",
   "execution_count": 5,
   "id": "8d56d693",
   "metadata": {},
   "outputs": [],
   "source": [
    "with open(path/'carla-object-detection-dataset/traffic_signs_cleaned/autosplit_train.txt', 'r') as f:\n",
    "    trnidx = [x.strip().split('/')[-1].split('.')[0] for x in f.readlines()]\n",
    "# with open(path/'carla-object-detection-dataset/traffic_signs_cleaned/autosplit_val.txt', 'r') as f:\n",
    "#     validx = [x.strip().split('/')[-1].split('.')[0] for x in f.readlines()]"
   ]
  },
  {
   "cell_type": "code",
   "execution_count": 6,
   "id": "95bdb9be",
   "metadata": {},
   "outputs": [
    {
     "data": {
      "text/plain": [
       "'001364'"
      ]
     },
     "execution_count": 6,
     "metadata": {},
     "output_type": "execute_result"
    }
   ],
   "source": [
    "trnidx[0]"
   ]
  },
  {
   "cell_type": "code",
   "execution_count": 7,
   "id": "69bdc9d4-a647-4397-9f16-765dac8e6420",
   "metadata": {},
   "outputs": [],
   "source": [
    "# label_names = ['Speed-Limit-30', 'Speed-Limit-30-US', 'Speed-Limit-40', 'Speed-Limit-60',\n",
    "#           'Speed-Limit-60-US', 'Speed-Limit-90', 'Speed-Limit-90-US', 'Stop', 'Interchange',\n",
    "#           'NoTurnsLeft', 'No-Turns', 'One-Way', 'One-Way-Left', 'Michigan-Left',\n",
    "#           'Lane-Reduce-Left', 'One-Way-Right','Yield', 'AnimalCrossing']\n",
    "label_names = ['Car', 'Cyclist', 'Pedestrian']"
   ]
  },
  {
   "cell_type": "markdown",
   "id": "8711fa91",
   "metadata": {},
   "source": [
    "## Loading the bounding box annotations"
   ]
  },
  {
   "cell_type": "code",
   "execution_count": 8,
   "id": "016f4abe",
   "metadata": {},
   "outputs": [],
   "source": [
    "def read_mapillary_annotation(idx, width=1280, height=768):\n",
    "    with open(Path('../carla-object-detection-dataset/traffic_signs_cleaned/labels/')/(idx+'.txt')) as fd:\n",
    "        lines = fd.readlines()\n",
    "#     w,h = float(anno['width']), float(anno['height'])\n",
    "        \n",
    "    labels = []\n",
    "    bboxes = []\n",
    "    for line in lines:\n",
    "        split_line = line.split(' ')\n",
    "                \n",
    "        labels.append(label_names[int(split_line[0])])\n",
    "        x = float(split_line[1])\n",
    "        y = float(split_line[2])\n",
    "        w = float(split_line[3])\n",
    "        h = float(split_line[4])\n",
    "        x1 = x - w/2\n",
    "        y1 = y - h/2\n",
    "        x2 = x + w/2\n",
    "        y2 = y + h/2\n",
    "        bboxes.append([x1*width, y1*height, x2*width, y2*height])\n",
    "#     for obj in anno['objects']:\n",
    "#         bbox = obj['bbox']\n",
    "#         bboxes.append([bbox['xmin'], bbox['ymin'], bbox['xmax'], bbox['ymax']])\n",
    "#         labels.append(obj['label'])\n",
    "    return dict(\n",
    "        idx = idx, w = width, h = height, pano = False,\n",
    "        labels = np.array(labels),\n",
    "        bboxes = np.array(bboxes),\n",
    "    )"
   ]
  },
  {
   "cell_type": "code",
   "execution_count": 9,
   "id": "aef1caab",
   "metadata": {},
   "outputs": [
    {
     "data": {
      "text/plain": [
       "{'idx': '001364',\n",
       " 'w': 1280,\n",
       " 'h': 768,\n",
       " 'pano': False,\n",
       " 'labels': array(['Speed-Limit-60-US'], dtype='<U17'),\n",
       " 'bboxes': array([[775., 347., 795., 372.]])}"
      ]
     },
     "execution_count": 9,
     "metadata": {},
     "output_type": "execute_result"
    }
   ],
   "source": [
    "read_mapillary_annotation(trnidx[0])"
   ]
  },
  {
   "cell_type": "markdown",
   "id": "f46553af",
   "metadata": {},
   "source": [
    "Calculating width and height – we'll need it to get the aspect ratio of each sign. We are resizing (squishing) every sign into a 40x40 pixels square so remembering the original aspect ratio might be helpful."
   ]
  },
  {
   "cell_type": "code",
   "execution_count": 10,
   "id": "eb55296a",
   "metadata": {},
   "outputs": [],
   "source": [
    "bboxes = read_mapillary_annotation(trnidx[0])['bboxes']"
   ]
  },
  {
   "cell_type": "code",
   "execution_count": 11,
   "id": "00c2a26f",
   "metadata": {},
   "outputs": [
    {
     "data": {
      "text/plain": [
       "array([[20., 25.]])"
      ]
     },
     "execution_count": 11,
     "metadata": {},
     "output_type": "execute_result"
    }
   ],
   "source": [
    "wh = bboxes[:,2:] - bboxes[:,:2]\n",
    "wh"
   ]
  },
  {
   "cell_type": "code",
   "execution_count": 12,
   "id": "5deb4805",
   "metadata": {},
   "outputs": [],
   "source": [
    "def create_crops(annotation, output_size=(40,40)):\n",
    "    aspects = {}\n",
    "    img = Image.open(f\"../carla-object-detection-dataset/traffic_signs_cleaned/images/{annotation['idx']}.jpg\")\n",
    "    for i, (bbox, label) in enumerate(zip(annotation['bboxes'], annotation['labels'])):\n",
    "        try:\n",
    "            wh = bbox[2:] - bbox[:2]\n",
    "            size = np.exp(np.log(wh).mean(-1))\n",
    "            !mkdir -p {outpath}/{label}\n",
    "            name = f\"{label}/{annotation['idx']}-{i}.jpg\"\n",
    "            aspects[name] = wh[0]/wh[1]\n",
    "            img.crop(bbox).resize(output_size).save(f\"{outpath}/{name}\")\n",
    "        except:\n",
    "            print(f\"Skipping {annotation['idx']}-{i} / {label}\")\n",
    "    return aspects"
   ]
  },
  {
   "cell_type": "markdown",
   "id": "85cfe2c7",
   "metadata": {},
   "source": [
    "First let's verify it works for just a couple of images:"
   ]
  },
  {
   "cell_type": "code",
   "execution_count": 13,
   "id": "a5174f2b",
   "metadata": {},
   "outputs": [],
   "source": [
    "!rm -r {outpath}"
   ]
  },
  {
   "cell_type": "code",
   "execution_count": 14,
   "id": "9a0c99ae",
   "metadata": {},
   "outputs": [
    {
     "data": {
      "text/plain": [
       "{'Speed-Limit-60-US/001364-0.jpg': 0.8,\n",
       " 'Speed-Limit-60-US/001365-0.jpg': 0.7666666666666705,\n",
       " 'Speed-Limit-60-US/001366-0.jpg': 0.8000000000000033,\n",
       " 'Speed-Limit-60-US/001367-0.jpg': 0.7777777777777778,\n",
       " 'Speed-Limit-60-US/001368-0.jpg': 0.8000000000000019}"
      ]
     },
     "execution_count": 14,
     "metadata": {},
     "output_type": "execute_result"
    }
   ],
   "source": [
    "aspects = {k:v for idx in trnidx[:5] for k,v in create_crops(read_mapillary_annotation(idx)).items()}\n",
    "aspects"
   ]
  },
  {
   "cell_type": "code",
   "execution_count": 15,
   "id": "68930438",
   "metadata": {},
   "outputs": [
    {
     "name": "stdout",
     "output_type": "stream",
     "text": [
      "yolo-bbox-crops-aspects-traffic-signs:\n",
      "total 4\n",
      "drwxrwxr-x 2 vineet vineet 4096 Aug 31 07:12 Speed-Limit-60-US\n",
      "\n",
      "yolo-bbox-crops-aspects-traffic-signs/Speed-Limit-60-US:\n",
      "total 20\n",
      "-rw-rw-r-- 1 vineet vineet 824 Aug 31 07:12 001364-0.jpg\n",
      "-rw-rw-r-- 1 vineet vineet 864 Aug 31 07:12 001365-0.jpg\n",
      "-rw-rw-r-- 1 vineet vineet 891 Aug 31 07:12 001366-0.jpg\n",
      "-rw-rw-r-- 1 vineet vineet 945 Aug 31 07:12 001367-0.jpg\n",
      "-rw-rw-r-- 1 vineet vineet 992 Aug 31 07:12 001368-0.jpg\n"
     ]
    }
   ],
   "source": [
    "!ls -lR {outpath}"
   ]
  },
  {
   "cell_type": "code",
   "execution_count": 16,
   "id": "c018f98e",
   "metadata": {},
   "outputs": [
    {
     "name": "stdout",
     "output_type": "stream",
     "text": [
      "Speed-Limit-60-US/001364-0.jpg\n",
      "0.8\n"
     ]
    },
    {
     "data": {
      "image/png": "[encoded data removed]",
      "text/plain": [
       "<PIL.JpegImagePlugin.JpegImageFile image mode=RGB size=40x40>"
      ]
     },
     "execution_count": 16,
     "metadata": {},
     "output_type": "execute_result"
    }
   ],
   "source": [
    "crop = list(aspects.keys())[0]\n",
    "print(crop)\n",
    "print(aspects[crop])\n",
    "Image.open(f\"{outpath}/{crop}\")"
   ]
  },
  {
   "cell_type": "markdown",
   "id": "868b7a69",
   "metadata": {},
   "source": [
    "## Generating all the cropped signs (in parallel)"
   ]
  },
  {
   "cell_type": "code",
   "execution_count": 17,
   "id": "73695b93",
   "metadata": {},
   "outputs": [],
   "source": [
    "!rm -r {outpath}"
   ]
  },
  {
   "cell_type": "code",
   "execution_count": 18,
   "id": "b102c8ae",
   "metadata": {},
   "outputs": [],
   "source": [
    "def make_crops(idx): return create_crops(read_mapillary_annotation(idx))"
   ]
  },
  {
   "cell_type": "code",
   "execution_count": 19,
   "id": "a622ae45",
   "metadata": {},
   "outputs": [
    {
     "data": {
      "text/html": [
       "\n",
       "<style>\n",
       "    /* Turns off some styling */\n",
       "    progress {\n",
       "        /* gets rid of default border in Firefox and Opera. */\n",
       "        border: none;\n",
       "        /* Needs to be in here for Safari polyfill so background images work as expected. */\n",
       "        background-size: auto;\n",
       "    }\n",
       "    progress:not([value]), progress:not([value])::-webkit-progress-bar {\n",
       "        background: repeating-linear-gradient(45deg, #7e7e7e, #7e7e7e 10px, #5c5c5c 10px, #5c5c5c 20px);\n",
       "    }\n",
       "    .progress-bar-interrupted, .progress-bar-interrupted::-webkit-progress-bar {\n",
       "        background: #F44336;\n",
       "    }\n",
       "</style>\n"
      ],
      "text/plain": [
       "<IPython.core.display.HTML object>"
      ]
     },
     "metadata": {},
     "output_type": "display_data"
    },
    {
     "data": {
      "text/html": [],
      "text/plain": [
       "<IPython.core.display.HTML object>"
      ]
     },
     "metadata": {},
     "output_type": "display_data"
    }
   ],
   "source": [
    "trn_aspects = parallel(make_crops, trnidx, progress=True)"
   ]
  },
  {
   "cell_type": "code",
   "execution_count": 20,
   "id": "960f6fc7",
   "metadata": {},
   "outputs": [
    {
     "data": {
      "text/html": [
       "\n",
       "<style>\n",
       "    /* Turns off some styling */\n",
       "    progress {\n",
       "        /* gets rid of default border in Firefox and Opera. */\n",
       "        border: none;\n",
       "        /* Needs to be in here for Safari polyfill so background images work as expected. */\n",
       "        background-size: auto;\n",
       "    }\n",
       "    progress:not([value]), progress:not([value])::-webkit-progress-bar {\n",
       "        background: repeating-linear-gradient(45deg, #7e7e7e, #7e7e7e 10px, #5c5c5c 10px, #5c5c5c 20px);\n",
       "    }\n",
       "    .progress-bar-interrupted, .progress-bar-interrupted::-webkit-progress-bar {\n",
       "        background: #F44336;\n",
       "    }\n",
       "</style>\n"
      ],
      "text/plain": [
       "<IPython.core.display.HTML object>"
      ]
     },
     "metadata": {},
     "output_type": "display_data"
    },
    {
     "data": {
      "text/html": [],
      "text/plain": [
       "<IPython.core.display.HTML object>"
      ]
     },
     "metadata": {},
     "output_type": "display_data"
    }
   ],
   "source": [
    "val_aspects = parallel(make_crops, validx, progress=True)"
   ]
  },
  {
   "cell_type": "code",
   "execution_count": 21,
   "id": "e718764c",
   "metadata": {},
   "outputs": [
    {
     "data": {
      "text/plain": [
       "1531"
      ]
     },
     "execution_count": 21,
     "metadata": {},
     "output_type": "execute_result"
    }
   ],
   "source": [
    "all_aspects = {k:v for d in trn_aspects+val_aspects for k,v in d.items()}\n",
    "len(all_aspects)"
   ]
  },
  {
   "cell_type": "code",
   "execution_count": 22,
   "id": "e66aff7c",
   "metadata": {},
   "outputs": [
    {
     "data": {
      "text/plain": [
       "count    1531.000000\n",
       "mean        1.164202\n",
       "std         0.693804\n",
       "min         0.560000\n",
       "25%         0.793103\n",
       "50%         0.943662\n",
       "75%         1.034483\n",
       "max         3.545455\n",
       "dtype: float64"
      ]
     },
     "execution_count": 22,
     "metadata": {},
     "output_type": "execute_result"
    }
   ],
   "source": [
    "pd.Series(all_aspects.values()).describe()"
   ]
  },
  {
   "cell_type": "code",
   "execution_count": 23,
   "id": "a767dd81",
   "metadata": {},
   "outputs": [
    {
     "data": {
      "text/plain": [
       "<AxesSubplot:>"
      ]
     },
     "execution_count": 23,
     "metadata": {},
     "output_type": "execute_result"
    },
    {
     "data": {
      "image/png": "[encoded data removed]",
      "text/plain": [
       "<Figure size 432x288 with 1 Axes>"
      ]
     },
     "metadata": {
      "needs_background": "light"
     },
     "output_type": "display_data"
    }
   ],
   "source": [
    "pd.Series(all_aspects.values()).hist(range=(0,5), bins=50)"
   ]
  },
  {
   "cell_type": "code",
   "execution_count": 24,
   "id": "86d27968",
   "metadata": {},
   "outputs": [],
   "source": [
    "pd.Series(all_aspects).to_csv('aspect-ratios.csv')"
   ]
  },
  {
   "cell_type": "code",
   "execution_count": null,
   "id": "7e3de694",
   "metadata": {},
   "outputs": [],
   "source": []
  },
  {
   "cell_type": "code",
   "execution_count": null,
   "id": "35d24b7c-a2cf-4927-adaa-d7e38af0d9fe",
   "metadata": {},
   "outputs": [],
   "source": []
  }
 ],
 "metadata": {
  "kernelspec": {
   "display_name": "Python (mlfix)",
   "language": "python",
   "name": "mlfix"
  },
  "language_info": {
   "codemirror_mode": {
    "name": "ipython",
    "version": 3
   },
   "file_extension": ".py",
   "mimetype": "text/x-python",
   "name": "python",
   "nbconvert_exporter": "python",
   "pygments_lexer": "ipython3",
   "version": "3.8.10"
  }
 },
 "nbformat": 4,
 "nbformat_minor": 5
}
