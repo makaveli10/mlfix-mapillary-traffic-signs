{
 "cells": [
  {
   "cell_type": "markdown",
   "id": "4dc48515",
   "metadata": {},
   "source": [
    "# Mapillary speed limit traffic signs cleanup"
   ]
  },
  {
   "cell_type": "code",
   "execution_count": 1,
   "id": "70e7be58",
   "metadata": {},
   "outputs": [],
   "source": [
    "%load_ext autoreload\n",
    "%autoreload 2head()\n",
    "from fastai.vision.all import *"
   ]
  },
  {
   "cell_type": "code",
   "execution_count": 2,
   "id": "e8483e9a",
   "metadata": {},
   "outputs": [],
   "source": [
    "from MLfix import MLfix"
   ]
  },
  {
   "cell_type": "markdown",
   "id": "166efe28",
   "metadata": {},
   "source": [
    "## Load crops and labels into a Pandas DataFrame"
   ]
  },
  {
   "cell_type": "code",
   "execution_count": 3,
   "id": "1e3107fd",
   "metadata": {},
   "outputs": [],
   "source": [
    "path = Path('yolo-bbox-crops-aspects-traffic-signs')"
   ]
  },
  {
   "cell_type": "code",
   "execution_count": 4,
   "id": "9640f3c6",
   "metadata": {},
   "outputs": [],
   "source": [
    "fnames = get_image_files(path)"
   ]
  },
  {
   "cell_type": "markdown",
   "id": "be98349c",
   "metadata": {},
   "source": [
    "We'll create the DataFrame with the file names as the index and put the folder name in the `label` column since we groupped the crops in folders by their ground truth class."
   ]
  },
  {
   "cell_type": "code",
   "execution_count": 7,
   "id": "9f6be4a2",
   "metadata": {},
   "outputs": [],
   "source": [
    "data = pd.DataFrame(dict(fname = fnames), index = [str(x) for x in fnames])\n",
    "data['label'] = data.fname.map(lambda x: x.parent.name)"
   ]
  },
  {
   "cell_type": "code",
   "execution_count": 8,
   "id": "8b3c6d86",
   "metadata": {},
   "outputs": [
    {
     "data": {
      "text/html": [
       "<div>\n",
       "<style scoped>\n",
       "    .dataframe tbody tr th:only-of-type {\n",
       "        vertical-align: middle;\n",
       "    }\n",
       "\n",
       "    .dataframe tbody tr th {\n",
       "        vertical-align: top;\n",
       "    }\n",
       "\n",
       "    .dataframe thead th {\n",
       "        text-align: right;\n",
       "    }\n",
       "</style>\n",
       "<table border=\"1\" class=\"dataframe\">\n",
       "  <thead>\n",
       "    <tr style=\"text-align: right;\">\n",
       "      <th></th>\n",
       "      <th>fname</th>\n",
       "      <th>label</th>\n",
       "    </tr>\n",
       "  </thead>\n",
       "  <tbody>\n",
       "    <tr>\n",
       "      <th>yolo-bbox-crops-aspects-traffic-signs/Stop/004193-0.jpg</th>\n",
       "      <td>yolo-bbox-crops-aspects-traffic-signs/Stop/004193-0.jpg</td>\n",
       "      <td>Stop</td>\n",
       "    </tr>\n",
       "    <tr>\n",
       "      <th>yolo-bbox-crops-aspects-traffic-signs/Stop/003692-0.jpg</th>\n",
       "      <td>yolo-bbox-crops-aspects-traffic-signs/Stop/003692-0.jpg</td>\n",
       "      <td>Stop</td>\n",
       "    </tr>\n",
       "    <tr>\n",
       "      <th>yolo-bbox-crops-aspects-traffic-signs/Stop/003677-0.jpg</th>\n",
       "      <td>yolo-bbox-crops-aspects-traffic-signs/Stop/003677-0.jpg</td>\n",
       "      <td>Stop</td>\n",
       "    </tr>\n",
       "    <tr>\n",
       "      <th>yolo-bbox-crops-aspects-traffic-signs/Stop/003663-0.jpg</th>\n",
       "      <td>yolo-bbox-crops-aspects-traffic-signs/Stop/003663-0.jpg</td>\n",
       "      <td>Stop</td>\n",
       "    </tr>\n",
       "    <tr>\n",
       "      <th>yolo-bbox-crops-aspects-traffic-signs/Stop/003580-1.jpg</th>\n",
       "      <td>yolo-bbox-crops-aspects-traffic-signs/Stop/003580-1.jpg</td>\n",
       "      <td>Stop</td>\n",
       "    </tr>\n",
       "    <tr>\n",
       "      <th>...</th>\n",
       "      <td>...</td>\n",
       "      <td>...</td>\n",
       "    </tr>\n",
       "    <tr>\n",
       "      <th>yolo-bbox-crops-aspects-traffic-signs/Lane-Reduce-Left/001599-0.jpg</th>\n",
       "      <td>yolo-bbox-crops-aspects-traffic-signs/Lane-Reduce-Left/001599-0.jpg</td>\n",
       "      <td>Lane-Reduce-Left</td>\n",
       "    </tr>\n",
       "    <tr>\n",
       "      <th>yolo-bbox-crops-aspects-traffic-signs/Lane-Reduce-Left/002054-0.jpg</th>\n",
       "      <td>yolo-bbox-crops-aspects-traffic-signs/Lane-Reduce-Left/002054-0.jpg</td>\n",
       "      <td>Lane-Reduce-Left</td>\n",
       "    </tr>\n",
       "    <tr>\n",
       "      <th>yolo-bbox-crops-aspects-traffic-signs/Lane-Reduce-Left/002340-0.jpg</th>\n",
       "      <td>yolo-bbox-crops-aspects-traffic-signs/Lane-Reduce-Left/002340-0.jpg</td>\n",
       "      <td>Lane-Reduce-Left</td>\n",
       "    </tr>\n",
       "    <tr>\n",
       "      <th>yolo-bbox-crops-aspects-traffic-signs/Lane-Reduce-Left/002727-0.jpg</th>\n",
       "      <td>yolo-bbox-crops-aspects-traffic-signs/Lane-Reduce-Left/002727-0.jpg</td>\n",
       "      <td>Lane-Reduce-Left</td>\n",
       "    </tr>\n",
       "    <tr>\n",
       "      <th>yolo-bbox-crops-aspects-traffic-signs/Lane-Reduce-Left/002268-0.jpg</th>\n",
       "      <td>yolo-bbox-crops-aspects-traffic-signs/Lane-Reduce-Left/002268-0.jpg</td>\n",
       "      <td>Lane-Reduce-Left</td>\n",
       "    </tr>\n",
       "  </tbody>\n",
       "</table>\n",
       "<p>5138 rows × 2 columns</p>\n",
       "</div>"
      ],
      "text/plain": [
       "                                                                                                                                   fname  \\\n",
       "yolo-bbox-crops-aspects-traffic-signs/Stop/004193-0.jpg                          yolo-bbox-crops-aspects-traffic-signs/Stop/004193-0.jpg   \n",
       "yolo-bbox-crops-aspects-traffic-signs/Stop/003692-0.jpg                          yolo-bbox-crops-aspects-traffic-signs/Stop/003692-0.jpg   \n",
       "yolo-bbox-crops-aspects-traffic-signs/Stop/003677-0.jpg                          yolo-bbox-crops-aspects-traffic-signs/Stop/003677-0.jpg   \n",
       "yolo-bbox-crops-aspects-traffic-signs/Stop/003663-0.jpg                          yolo-bbox-crops-aspects-traffic-signs/Stop/003663-0.jpg   \n",
       "yolo-bbox-crops-aspects-traffic-signs/Stop/003580-1.jpg                          yolo-bbox-crops-aspects-traffic-signs/Stop/003580-1.jpg   \n",
       "...                                                                                                                                  ...   \n",
       "yolo-bbox-crops-aspects-traffic-signs/Lane-Reduce-Left/001599-0.jpg  yolo-bbox-crops-aspects-traffic-signs/Lane-Reduce-Left/001599-0.jpg   \n",
       "yolo-bbox-crops-aspects-traffic-signs/Lane-Reduce-Left/002054-0.jpg  yolo-bbox-crops-aspects-traffic-signs/Lane-Reduce-Left/002054-0.jpg   \n",
       "yolo-bbox-crops-aspects-traffic-signs/Lane-Reduce-Left/002340-0.jpg  yolo-bbox-crops-aspects-traffic-signs/Lane-Reduce-Left/002340-0.jpg   \n",
       "yolo-bbox-crops-aspects-traffic-signs/Lane-Reduce-Left/002727-0.jpg  yolo-bbox-crops-aspects-traffic-signs/Lane-Reduce-Left/002727-0.jpg   \n",
       "yolo-bbox-crops-aspects-traffic-signs/Lane-Reduce-Left/002268-0.jpg  yolo-bbox-crops-aspects-traffic-signs/Lane-Reduce-Left/002268-0.jpg   \n",
       "\n",
       "                                                                                label  \n",
       "yolo-bbox-crops-aspects-traffic-signs/Stop/004193-0.jpg                          Stop  \n",
       "yolo-bbox-crops-aspects-traffic-signs/Stop/003692-0.jpg                          Stop  \n",
       "yolo-bbox-crops-aspects-traffic-signs/Stop/003677-0.jpg                          Stop  \n",
       "yolo-bbox-crops-aspects-traffic-signs/Stop/003663-0.jpg                          Stop  \n",
       "yolo-bbox-crops-aspects-traffic-signs/Stop/003580-1.jpg                          Stop  \n",
       "...                                                                               ...  \n",
       "yolo-bbox-crops-aspects-traffic-signs/Lane-Reduce-Left/001599-0.jpg  Lane-Reduce-Left  \n",
       "yolo-bbox-crops-aspects-traffic-signs/Lane-Reduce-Left/002054-0.jpg  Lane-Reduce-Left  \n",
       "yolo-bbox-crops-aspects-traffic-signs/Lane-Reduce-Left/002340-0.jpg  Lane-Reduce-Left  \n",
       "yolo-bbox-crops-aspects-traffic-signs/Lane-Reduce-Left/002727-0.jpg  Lane-Reduce-Left  \n",
       "yolo-bbox-crops-aspects-traffic-signs/Lane-Reduce-Left/002268-0.jpg  Lane-Reduce-Left  \n",
       "\n",
       "[5138 rows x 2 columns]"
      ]
     },
     "execution_count": 8,
     "metadata": {},
     "output_type": "execute_result"
    }
   ],
   "source": [
    "data"
   ]
  },
  {
   "cell_type": "markdown",
   "id": "95934c04",
   "metadata": {},
   "source": [
    "## Find all the signs with \"speed\" in the label"
   ]
  },
  {
   "cell_type": "code",
   "execution_count": 9,
   "id": "d08ac48c",
   "metadata": {},
   "outputs": [],
   "source": [
    "speed_limits = data.copy()"
   ]
  },
  {
   "cell_type": "code",
   "execution_count": 10,
   "id": "48786f6f",
   "metadata": {},
   "outputs": [],
   "source": [
    "# if you don't want to do all the work yourself you can load the result of the analysis we did\n",
    "invalid = pd.read_csv('invalid-traffic-signs.csv', index_col=0)\n",
    "speed_limits['new_label'] = speed_limits['label']\n",
    "speed_limits.loc[invalid.index, 'new_label'] = 'invalid'"
   ]
  },
  {
   "cell_type": "code",
   "execution_count": 11,
   "id": "f1e255be",
   "metadata": {},
   "outputs": [
    {
     "data": {
      "text/html": [
       "<div>\n",
       "<style scoped>\n",
       "    .dataframe tbody tr th:only-of-type {\n",
       "        vertical-align: middle;\n",
       "    }\n",
       "\n",
       "    .dataframe tbody tr th {\n",
       "        vertical-align: top;\n",
       "    }\n",
       "\n",
       "    .dataframe thead th {\n",
       "        text-align: right;\n",
       "    }\n",
       "</style>\n",
       "<table border=\"1\" class=\"dataframe\">\n",
       "  <thead>\n",
       "    <tr style=\"text-align: right;\">\n",
       "      <th></th>\n",
       "      <th>fname</th>\n",
       "      <th>label</th>\n",
       "      <th>new_label</th>\n",
       "    </tr>\n",
       "  </thead>\n",
       "  <tbody>\n",
       "    <tr>\n",
       "      <th>yolo-bbox-crops-aspects-traffic-signs/Stop/004193-0.jpg</th>\n",
       "      <td>yolo-bbox-crops-aspects-traffic-signs/Stop/004193-0.jpg</td>\n",
       "      <td>Stop</td>\n",
       "      <td>Stop</td>\n",
       "    </tr>\n",
       "    <tr>\n",
       "      <th>yolo-bbox-crops-aspects-traffic-signs/Stop/003692-0.jpg</th>\n",
       "      <td>yolo-bbox-crops-aspects-traffic-signs/Stop/003692-0.jpg</td>\n",
       "      <td>Stop</td>\n",
       "      <td>Stop</td>\n",
       "    </tr>\n",
       "    <tr>\n",
       "      <th>yolo-bbox-crops-aspects-traffic-signs/Stop/003677-0.jpg</th>\n",
       "      <td>yolo-bbox-crops-aspects-traffic-signs/Stop/003677-0.jpg</td>\n",
       "      <td>Stop</td>\n",
       "      <td>Stop</td>\n",
       "    </tr>\n",
       "    <tr>\n",
       "      <th>yolo-bbox-crops-aspects-traffic-signs/Stop/003663-0.jpg</th>\n",
       "      <td>yolo-bbox-crops-aspects-traffic-signs/Stop/003663-0.jpg</td>\n",
       "      <td>Stop</td>\n",
       "      <td>Stop</td>\n",
       "    </tr>\n",
       "    <tr>\n",
       "      <th>yolo-bbox-crops-aspects-traffic-signs/Stop/003580-1.jpg</th>\n",
       "      <td>yolo-bbox-crops-aspects-traffic-signs/Stop/003580-1.jpg</td>\n",
       "      <td>Stop</td>\n",
       "      <td>Stop</td>\n",
       "    </tr>\n",
       "  </tbody>\n",
       "</table>\n",
       "</div>"
      ],
      "text/plain": [
       "                                                                                                           fname  \\\n",
       "yolo-bbox-crops-aspects-traffic-signs/Stop/004193-0.jpg  yolo-bbox-crops-aspects-traffic-signs/Stop/004193-0.jpg   \n",
       "yolo-bbox-crops-aspects-traffic-signs/Stop/003692-0.jpg  yolo-bbox-crops-aspects-traffic-signs/Stop/003692-0.jpg   \n",
       "yolo-bbox-crops-aspects-traffic-signs/Stop/003677-0.jpg  yolo-bbox-crops-aspects-traffic-signs/Stop/003677-0.jpg   \n",
       "yolo-bbox-crops-aspects-traffic-signs/Stop/003663-0.jpg  yolo-bbox-crops-aspects-traffic-signs/Stop/003663-0.jpg   \n",
       "yolo-bbox-crops-aspects-traffic-signs/Stop/003580-1.jpg  yolo-bbox-crops-aspects-traffic-signs/Stop/003580-1.jpg   \n",
       "\n",
       "                                                        label new_label  \n",
       "yolo-bbox-crops-aspects-traffic-signs/Stop/004193-0.jpg  Stop      Stop  \n",
       "yolo-bbox-crops-aspects-traffic-signs/Stop/003692-0.jpg  Stop      Stop  \n",
       "yolo-bbox-crops-aspects-traffic-signs/Stop/003677-0.jpg  Stop      Stop  \n",
       "yolo-bbox-crops-aspects-traffic-signs/Stop/003663-0.jpg  Stop      Stop  \n",
       "yolo-bbox-crops-aspects-traffic-signs/Stop/003580-1.jpg  Stop      Stop  "
      ]
     },
     "execution_count": 11,
     "metadata": {},
     "output_type": "execute_result"
    }
   ],
   "source": [
    "speed_limits.head()"
   ]
  },
  {
   "cell_type": "markdown",
   "id": "4644fa5c",
   "metadata": {},
   "source": [
    "## Run MLfix"
   ]
  },
  {
   "cell_type": "markdown",
   "id": "449af8f2",
   "metadata": {},
   "source": [
    "We can use the DataFrame we created to start an MLfix session. The photos will be grouped by the `label` column (the `group` keyword argument) which are the original ground truth labels, we will display the fixed label \n",
    "below each image (the `label=`) and display the images zoomed up a bit at 200px.\n",
    "\n",
    "We also give the paths to the class SVG icons so MLfix can display them instead of the class names which are\n",
    "not very readable.\n",
    "\n",
    "In the UI you can select the invalid crops by clicking on them. Also check the top bar for filters, for example you can easily show only the invalid crops.\n",
    "\n",
    "The MLfix call returns a new Pandas Series that's going to be updated as we select the invalid samples in the UI. We assign it to a variable so we will be able to inspect the results later on.\n",
    "\n",
    "FIXME: we cannot assign to a new column because that seems to break the reference and assign a copy instead (which won't be updated when we use the UI). At one point the code just updated the column pointed to by the `label=` kwarg and we should probably get back to doing that."
   ]
  },
  {
   "cell_type": "code",
   "execution_count": 12,
   "id": "762e761f",
   "metadata": {},
   "outputs": [
    {
     "name": "stdout",
     "output_type": "stream",
     "text": [
      "label\n"
     ]
    },
    {
     "data": {
      "text/html": [
       "\n",
       "    <style>\n",
       "      .mlfix-container {\n",
       "        position: relative;\n",
       "        background-color: white;\n",
       "      }\n",
       "      .mlfix-fullscreen {\n",
       "        width: 100%;\n",
       "        height: 100%;\n",
       "        position: absolute;\n",
       "        top: 0;\n",
       "        left: 0;\n",
       "        z-index: 10000;\n",
       "      }\n",
       "      .mlfix-fullscreen iframe {\n",
       "        height: 100%;\n",
       "      }\n",
       "    </style>\n",
       "    <div id=mlfix-kjKg5-container class=mlfix-container>\n",
       "      <iframe id=mlfix-kjKg5 src=\"/proxy/47997/mlfix-kjKg5/#mlfix-kjKg5\"\n",
       "              width=\"100%\" height=\"500px\" frameborder=\"0\" allowfullscreen></iframe>\n",
       "      <script>(function () {\n",
       "        var iframe = document.getElementById('mlfix-kjKg5');\n",
       "        var outputEl = iframe.parentNode;\n",
       "        var parentEl = outputEl.parentNode;\n",
       "        console.log('MLfix init:', outputEl, parentEl);\n",
       "        var bringMLfixIframeToFocus = function() {\n",
       "            iframe.contentWindow.focus();\n",
       "        }\n",
       "        setTimeout(bringMLfixIframeToFocus, 100);\n",
       "\n",
       "        var isFullscreen = false;\n",
       "        var parentEl;\n",
       "        window.addEventListener('message', (ev) => {\n",
       "          if (ev.data == 'mlfix-toggle-fullscreen-mlfix-kjKg5') {\n",
       "            if (!isFullscreen) {\n",
       "              $(outputEl).appendTo(document.body).addClass('mlfix-fullscreen');\n",
       "            } else {\n",
       "              $(outputEl).appendTo(parentEl).removeClass('mlfix-fullscreen');\n",
       "            }\n",
       "            isFullscreen = !isFullscreen;\n",
       "            console.log('fullscreen', isFullscreen);\n",
       "            setTimeout(bringMLfixIframeToFocus, 100);\n",
       "          }\n",
       "        });\n",
       "      })();</script>\n",
       "    </div>\n",
       "    "
      ],
      "text/plain": [
       "<IPython.core.display.HTML object>"
      ]
     },
     "metadata": {},
     "output_type": "display_data"
    },
    {
     "name": "stdout",
     "output_type": "stream",
     "text": [
      "yolo-bbox-crops-aspects-traffic-signs/Speed-Limit-30/000792-1.jpg label = invalid\n",
      "yolo-bbox-crops-aspects-traffic-signs/Speed-Limit-30/000818-0.jpg label = invalid\n",
      "yolo-bbox-crops-aspects-traffic-signs/Speed-Limit-30/000215-0.jpg label = invalid\n",
      "yolo-bbox-crops-aspects-traffic-signs/Speed-Limit-30/000215-0.jpg label = Speed-Limit-30\n",
      "yolo-bbox-crops-aspects-traffic-signs/Speed-Limit-30/000215-0.jpg label = invalid\n",
      "yolo-bbox-crops-aspects-traffic-signs/Speed-Limit-30/000869-0.jpg label = invalid\n",
      "yolo-bbox-crops-aspects-traffic-signs/Speed-Limit-30/000477-0.jpg label = invalid\n",
      "yolo-bbox-crops-aspects-traffic-signs/Speed-Limit-30/000483-0.jpg label = invalid\n",
      "yolo-bbox-crops-aspects-traffic-signs/Speed-Limit-30/000483-0.jpg label = Speed-Limit-30\n",
      "yolo-bbox-crops-aspects-traffic-signs/Speed-Limit-30/000483-0.jpg label = invalid\n"
     ]
    }
   ],
   "source": [
    "new_labels = MLfix(\n",
    "    speed_limits,\n",
    "    group='label',\n",
    "    label='new_label',\n",
    "    size=200)\n"
   ]
  },
  {
   "cell_type": "markdown",
   "id": "c9ad3fce",
   "metadata": {},
   "source": [
    "Let's see how many mistakes did we manage to find?"
   ]
  },
  {
   "cell_type": "code",
   "execution_count": 16,
   "id": "6830c993",
   "metadata": {},
   "outputs": [
    {
     "name": "stdout",
     "output_type": "stream",
     "text": [
      "2.34 %\n"
     ]
    }
   ],
   "source": [
    "print(f\"{(speed_limits['label'] != new_labels).mean() * 100:.2f} %\")"
   ]
  },
  {
   "cell_type": "markdown",
   "id": "9434588e",
   "metadata": {},
   "source": [
    "We can now update the CSV file and save our work:"
   ]
  },
  {
   "cell_type": "code",
   "execution_count": 18,
   "id": "57bb89b2",
   "metadata": {},
   "outputs": [],
   "source": [
    "new_labels[new_labels == 'invalid'].to_csv('invalid-traffic-signs.csv')"
   ]
  },
  {
   "cell_type": "code",
   "execution_count": null,
   "id": "7a3fe276-3657-4ecd-920b-c09f766c6e9a",
   "metadata": {},
   "outputs": [],
   "source": [
    "https://localhost:8888/proxy/47997/mlfix-kjKg5/imgs/yolo-bbox-crops-aspects-traffic-signs/Speed-Limit-30/000483-0.jpg"
   ]
  }
 ],
 "metadata": {
  "kernelspec": {
   "display_name": "Python (mlfix)",
   "language": "python",
   "name": "mlfix"
  },
  "language_info": {
   "codemirror_mode": {
    "name": "ipython",
    "version": 3
   },
   "file_extension": ".py",
   "mimetype": "text/x-python",
   "name": "python",
   "nbconvert_exporter": "python",
   "pygments_lexer": "ipython3",
   "version": "3.8.10"
  }
 },
 "nbformat": 4,
 "nbformat_minor": 5
}
